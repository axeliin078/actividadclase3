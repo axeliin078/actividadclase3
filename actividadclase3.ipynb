{
 "cells": [
  {
   "cell_type": "markdown",
   "metadata": {},
   "source": [
    "# Actividad Clase 3: Datos complejos"
   ]
  },
  {
   "cell_type": "markdown",
   "metadata": {},
   "source": [
    "## Crea una lista de nombre de ciudades"
   ]
  },
  {
   "cell_type": "code",
   "execution_count": 1,
   "metadata": {},
   "outputs": [
    {
     "name": "stdout",
     "output_type": "stream",
     "text": [
      "['New York', 'Paris', 'Londres', 'Tokio', 'Roma', 'Madrid']\n"
     ]
    }
   ],
   "source": [
    "ciudades = [\"New York\", \"Paris\", \"Londres\", \"Tokio\", \"Roma\", \"Madrid\"]\n",
    "\n",
    "\n",
    "print(ciudades)"
   ]
  },
  {
   "cell_type": "markdown",
   "metadata": {},
   "source": [
    "## Diccionario de empleados que incluya el nombre, cargo y salario"
   ]
  },
  {
   "cell_type": "code",
   "execution_count": 2,
   "metadata": {},
   "outputs": [
    {
     "name": "stdout",
     "output_type": "stream",
     "text": [
      "Información de los empleados:\n",
      "ID: 1, Nombre: Juan, Cargo: Gerente, Salario: $50000\n",
      "ID: 2, Nombre: María, Cargo: Analista, Salario: $40000\n",
      "ID: 3, Nombre: Pedro, Cargo: Desarrollador, Salario: $35000\n",
      "ID: 4, Nombre: Laura, Cargo: Diseñadora, Salario: $38000\n",
      "ID: 5, Nombre: Carlos, Cargo: Contador, Salario: $45000\n"
     ]
    }
   ],
   "source": [
    "empleados = {\n",
    "    1: {\"nombre\": \"Juan\", \"cargo\": \"Gerente\", \"salario\": 50000},\n",
    "    2: {\"nombre\": \"María\", \"cargo\": \"Analista\", \"salario\": 40000},\n",
    "    3: {\"nombre\": \"Pedro\", \"cargo\": \"Desarrollador\", \"salario\": 35000},\n",
    "    4: {\"nombre\": \"Laura\", \"cargo\": \"Diseñadora\", \"salario\": 38000},\n",
    "    5: {\"nombre\": \"Carlos\", \"cargo\": \"Contador\", \"salario\": 45000}\n",
    "}\n",
    "\n",
    "print(\"Información de los empleados:\")\n",
    "for id_empleado, info_empleado in empleados.items():\n",
    "    print(\"ID: {}, Nombre: {}, Cargo: {}, Salario: ${}\".format(id_empleado, info_empleado['nombre'], info_empleado['cargo'], info_empleado['salario']))"
   ]
  },
  {
   "cell_type": "markdown",
   "metadata": {},
   "source": [
    "## Como acceder a un elemento específico en una lista"
   ]
  },
  {
   "cell_type": "code",
   "execution_count": 3,
   "metadata": {},
   "outputs": [
    {
     "name": "stdout",
     "output_type": "stream",
     "text": [
      "Londres\n"
     ]
    }
   ],
   "source": [
    "ciudades = [\"Nueva York\", \"París\", \"Londres\", \"Tokio\", \"Roma\", \"Sídney\"]\n",
    "\n",
    "print(ciudades[2])"
   ]
  },
  {
   "cell_type": "markdown",
   "metadata": {},
   "source": [
    "## Como acceder a un elemento específico de un diccionario"
   ]
  },
  {
   "cell_type": "code",
   "execution_count": 4,
   "metadata": {},
   "outputs": [
    {
     "name": "stdout",
     "output_type": "stream",
     "text": [
      "Información de María: {'nombre': 'Pedro', 'cargo': 'Desarrollador', 'salario': 35000}\n"
     ]
    }
   ],
   "source": [
    "empleados = {\n",
    "    \"juan\": {\"nombre\": \"Juan\", \"cargo\": \"Gerente\", \"salario\": 50000},\n",
    "    \"maria\": {\"nombre\": \"María\", \"cargo\": \"Analista\", \"salario\": 40000},\n",
    "    \"pedro\": {\"nombre\": \"Pedro\", \"cargo\": \"Desarrollador\", \"salario\": 35000}\n",
    "}\n",
    "\n",
    "info_pedro = empleados[\"pedro\"]\n",
    "print(\"Información de María:\", info_pedro)"
   ]
  },
  {
   "cell_type": "markdown",
   "metadata": {},
   "source": [
    "# Manipulación de listas"
   ]
  },
  {
   "cell_type": "markdown",
   "metadata": {},
   "source": [
    "## Crear una lista inicial de números enteros"
   ]
  },
  {
   "cell_type": "code",
   "execution_count": 5,
   "metadata": {},
   "outputs": [
    {
     "name": "stdout",
     "output_type": "stream",
     "text": [
      "[1, 3, 5, 7, 9]\n"
     ]
    }
   ],
   "source": [
    "numeros = [1, 3, 5, 7, 9]\n",
    "print(numeros)"
   ]
  },
  {
   "cell_type": "markdown",
   "metadata": {},
   "source": [
    "## Utilizar el método .append() para agregar un número al final de la lista"
   ]
  },
  {
   "cell_type": "code",
   "execution_count": 6,
   "metadata": {},
   "outputs": [
    {
     "name": "stdout",
     "output_type": "stream",
     "text": [
      "[1, 3, 5, 7, 9, 11]\n"
     ]
    }
   ],
   "source": [
    "numeros = [1, 3, 5, 7, 9]\n",
    "numeros.append(11)\n",
    "print(numeros)"
   ]
  },
  {
   "cell_type": "markdown",
   "metadata": {},
   "source": [
    "## Utilizar el método .extend() para agregar múltiples elementos a la lista"
   ]
  },
  {
   "cell_type": "code",
   "execution_count": 7,
   "metadata": {},
   "outputs": [
    {
     "name": "stdout",
     "output_type": "stream",
     "text": [
      "[1, 3, 5, 7, 9, 13, 15, 17]\n"
     ]
    }
   ],
   "source": [
    "numeros = [1, 3, 5, 7, 9]\n",
    "numeros.extend([13, 15, 17])\n",
    "print(numeros)"
   ]
  },
  {
   "cell_type": "markdown",
   "metadata": {},
   "source": [
    "## Utilizar el método .insert() para insertar un número en una posición específica de la lista"
   ]
  },
  {
   "cell_type": "code",
   "execution_count": 8,
   "metadata": {},
   "outputs": [
    {
     "name": "stdout",
     "output_type": "stream",
     "text": [
      "[1, 3, 4, 5, 7, 9]\n"
     ]
    }
   ],
   "source": [
    "numeros = [1, 3, 5, 7, 9]\n",
    "numeros.insert(2, 4)\n",
    "print(numeros)"
   ]
  },
  {
   "cell_type": "markdown",
   "metadata": {},
   "source": [
    "## Mostrar la lista antes de ordenar"
   ]
  },
  {
   "cell_type": "code",
   "execution_count": 9,
   "metadata": {},
   "outputs": [
    {
     "name": "stdout",
     "output_type": "stream",
     "text": [
      "Lista antes de ordenar: [1, 5, 3, 9, 7]\n"
     ]
    }
   ],
   "source": [
    "numeros = [1, 5, 3, 9, 7]\n",
    "print(\"Lista antes de ordenar:\", numeros)"
   ]
  },
  {
   "cell_type": "markdown",
   "metadata": {},
   "source": [
    "## Utilizar el método .sort() para ordenar la lista de números de forma ascendente"
   ]
  },
  {
   "cell_type": "code",
   "execution_count": 10,
   "metadata": {},
   "outputs": [
    {
     "name": "stdout",
     "output_type": "stream",
     "text": [
      "[1, 3, 5, 7, 9]\n"
     ]
    }
   ],
   "source": [
    "numeros = [1, 5, 3, 9, 7]\n",
    "numeros.sort()\n",
    "print(numeros)"
   ]
  },
  {
   "cell_type": "markdown",
   "metadata": {},
   "source": [
    "# Manipulación de diccionarios"
   ]
  },
  {
   "cell_type": "markdown",
   "metadata": {},
   "source": [
    "## Crear el diccionario de productos"
   ]
  },
  {
   "cell_type": "code",
   "execution_count": 11,
   "metadata": {},
   "outputs": [],
   "source": [
    "productos = {\n",
    "    \"Camiseta\": {\"precio\": 20, \"cantidad\": 50},\n",
    "    \"Pantalón\": {\"precio\": 30, \"cantidad\": 40},\n",
    "    \"Zapatos\": {\"precio\": 50, \"cantidad\": 20}\n",
    "}"
   ]
  },
  {
   "cell_type": "markdown",
   "metadata": {},
   "source": [
    "## Obtener una lista de los nombres de productos"
   ]
  },
  {
   "cell_type": "code",
   "execution_count": 12,
   "metadata": {},
   "outputs": [
    {
     "name": "stdout",
     "output_type": "stream",
     "text": [
      "Nombres de productos: ['Camiseta', 'Pantalón', 'Zapatos']\n"
     ]
    }
   ],
   "source": [
    "productos = {\n",
    "    \"Camiseta\": {\"precio\": 20, \"cantidad\": 50},\n",
    "    \"Pantalón\": {\"precio\": 30, \"cantidad\": 40},\n",
    "    \"Zapatos\": {\"precio\": 50, \"cantidad\": 20}\n",
    "}\n",
    "\n",
    "nombres_productos = productos.keys()\n",
    "print(\"Nombres de productos:\", list(nombres_productos))"
   ]
  },
  {
   "cell_type": "markdown",
   "metadata": {},
   "source": [
    "## Obtener una lista de precios y cantidades"
   ]
  },
  {
   "cell_type": "code",
   "execution_count": 13,
   "metadata": {},
   "outputs": [
    {
     "name": "stdout",
     "output_type": "stream",
     "text": [
      "Precios y cantidades: [{'precio': 20, 'cantidad': 50}, {'precio': 30, 'cantidad': 40}, {'precio': 50, 'cantidad': 20}]\n"
     ]
    }
   ],
   "source": [
    "productos = {\n",
    "    \"Camiseta\": {\"precio\": 20, \"cantidad\": 50},\n",
    "    \"Pantalón\": {\"precio\": 30, \"cantidad\": 40},\n",
    "    \"Zapatos\": {\"precio\": 50, \"cantidad\": 20}\n",
    "}\n",
    "\n",
    "precios_cantidades = productos.values()\n",
    "print(\"Precios y cantidades:\", list(precios_cantidades))"
   ]
  },
  {
   "cell_type": "markdown",
   "metadata": {},
   "source": [
    "## Obtener una lista de tuplas con pares clave-valor"
   ]
  },
  {
   "cell_type": "code",
   "execution_count": 14,
   "metadata": {},
   "outputs": [
    {
     "name": "stdout",
     "output_type": "stream",
     "text": [
      "Nombres de productos: ['Camiseta', 'Pantalón', 'Zapatos']\n",
      "Precios y cantidades: [{'precio': 20, 'cantidad': 50}, {'precio': 30, 'cantidad': 40}, {'precio': 50, 'cantidad': 20}]\n",
      "Productos: [('Camiseta', {'precio': 20, 'cantidad': 50}), ('Pantalón', {'precio': 30, 'cantidad': 40}), ('Zapatos', {'precio': 50, 'cantidad': 20})]\n"
     ]
    }
   ],
   "source": [
    "productos = {\n",
    "    \"Camiseta\": {\"precio\": 20, \"cantidad\": 50},\n",
    "    \"Pantalón\": {\"precio\": 30, \"cantidad\": 40},\n",
    "    \"Zapatos\": {\"precio\": 50, \"cantidad\": 20}\n",
    "}\n",
    "\n",
    "nombres_productos = productos.keys()\n",
    "print(\"Nombres de productos:\", list(nombres_productos))\n",
    "precios_cantidades = productos.values()\n",
    "print(\"Precios y cantidades:\", list(precios_cantidades))\n",
    "items_productos = productos.items()\n",
    "print(\"Productos:\", list(items_productos))"
   ]
  },
  {
   "cell_type": "markdown",
   "metadata": {},
   "source": [
    "## Obtener el precio de un producto específico utilizando el método .get()"
   ]
  },
  {
   "cell_type": "code",
   "execution_count": 15,
   "metadata": {},
   "outputs": [
    {
     "name": "stdout",
     "output_type": "stream",
     "text": [
      "Nombres de productos: ['Camiseta', 'Pantalón', 'Zapatos']\n",
      "Precios y cantidades: [{'precio': 20, 'cantidad': 50}, {'precio': 30, 'cantidad': 40}, {'precio': 50, 'cantidad': 20}]\n",
      "Productos: [('Camiseta', {'precio': 20, 'cantidad': 50}), ('Pantalón', {'precio': 30, 'cantidad': 40}), ('Zapatos', {'precio': 50, 'cantidad': 20})]\n",
      "Precio de Camiseta: 20\n"
     ]
    }
   ],
   "source": [
    "productos = {\n",
    "    \"Camiseta\": {\"precio\": 20, \"cantidad\": 50},\n",
    "    \"Pantalón\": {\"precio\": 30, \"cantidad\": 40},\n",
    "    \"Zapatos\": {\"precio\": 50, \"cantidad\": 20}\n",
    "}\n",
    "\n",
    "nombres_productos = productos.keys()\n",
    "print(\"Nombres de productos:\", list(nombres_productos))\n",
    "precios_cantidades = productos.values()\n",
    "print(\"Precios y cantidades:\", list(precios_cantidades))\n",
    "items_productos = productos.items()\n",
    "print(\"Productos:\", list(items_productos))\n",
    "\n",
    "producto_buscado = \"Camiseta\"\n",
    "precio_camiseta = productos.get(producto_buscado, {}).get(\"precio\", \"Producto no encontrado\")\n",
    "print(\"Precio de\", producto_buscado + \":\", precio_camiseta)"
   ]
  },
  {
   "cell_type": "markdown",
   "metadata": {},
   "source": [
    "# Datos complejos:"
   ]
  },
  {
   "cell_type": "markdown",
   "metadata": {},
   "source": [
    "## Crear una lista de diccionarios que represente información de libros (título, autor, año de publicación)."
   ]
  },
  {
   "cell_type": "code",
   "execution_count": 16,
   "metadata": {},
   "outputs": [],
   "source": [
    "libros = [\n",
    "    {\"título\": \"Cien años de soledad\", \"autor\": \"Gabriel García Márquez\", \"año_publicación\": 1967},\n",
    "    {\"título\": \"1984\", \"autor\": \"George Orwell\", \"año_publicación\": 1949},\n",
    "    {\"título\": \"El principito\", \"autor\": \"Antoine de Saint-Exupéry\", \"año_publicación\": 1943}\n",
    "]"
   ]
  },
  {
   "cell_type": "markdown",
   "metadata": {},
   "source": [
    "## Crear un diccionario que contenga listas como valores (por ejemplo, un diccionario de estudiantes y sus materias)."
   ]
  },
  {
   "cell_type": "code",
   "execution_count": 17,
   "metadata": {},
   "outputs": [],
   "source": [
    "estudiantes = {\n",
    "    \"Juan\": [\"Matemáticas\", \"Física\", \"Química\"],\n",
    "    \"María\": [\"Historia\", \"Literatura\", \"Geografía\"],\n",
    "    \"Pedro\": [\"Programación\", \"Base de datos\", \"Redes\"]\n",
    "}"
   ]
  },
  {
   "cell_type": "markdown",
   "metadata": {},
   "source": [
    "## Mostrar cómo modificar un valor en una lista dentro de un diccionario y viceversa."
   ]
  },
  {
   "cell_type": "code",
   "execution_count": 18,
   "metadata": {},
   "outputs": [],
   "source": [
    "libros = [\n",
    "    {\"título\": \"Cien años de soledad\", \"autor\": \"Gabriel García Márquez\", \"año_publicación\": 1967},\n",
    "    {\"título\": \"1984\", \"autor\": \"George Orwell\", \"año_publicación\": 1949},\n",
    "    {\"título\": \"El principito\", \"autor\": \"Antoine de Saint-Exupéry\", \"año_publicación\": 1943}\n",
    "]\n",
    "\n",
    "libros[0][\"autor\"] = \"Nicolás Maquiavelo\""
   ]
  },
  {
   "cell_type": "code",
   "execution_count": 19,
   "metadata": {},
   "outputs": [],
   "source": [
    "estudiantes = {\n",
    "    \"Juan\": [\"Matemáticas\", \"Física\", \"Química\"],\n",
    "    \"María\": [\"Historia\", \"Literatura\", \"Geografía\"],\n",
    "    \"Pedro\": [\"Programación\", \"Base de datos\", \"Redes\"]\n",
    "}\n",
    "\n",
    "estudiantes[\"María\"][1] = \"Biología\""
   ]
  }
 ],
 "metadata": {
  "kernelspec": {
   "display_name": "Python 3",
   "language": "python",
   "name": "python3"
  },
  "language_info": {
   "codemirror_mode": {
    "name": "ipython",
    "version": 3
   },
   "file_extension": ".py",
   "mimetype": "text/x-python",
   "name": "python",
   "nbconvert_exporter": "python",
   "pygments_lexer": "ipython3",
   "version": "3.11.5"
  }
 },
 "nbformat": 4,
 "nbformat_minor": 2
}
