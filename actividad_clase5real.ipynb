{
 "cells": [
  {
   "cell_type": "markdown",
   "metadata": {},
   "source": [
    "# Tarea clase 5"
   ]
  },
  {
   "cell_type": "markdown",
   "metadata": {},
   "source": [
    "### Punto 1: Calcualdora simple"
   ]
  },
  {
   "cell_type": "code",
   "execution_count": 1,
   "metadata": {},
   "outputs": [
    {
     "name": "stdout",
     "output_type": "stream",
     "text": [
      "Selecciona la operación que quiere realizar: \n",
      "1- Suma\n",
      "2- Resta\n",
      "3- Multiplicación\n",
      "4- División\n",
      "La opción no es válida.\n"
     ]
    }
   ],
   "source": [
    "num1 = float(input(\"Por favor, ingrese el primer número: \"))\n",
    "num2 = float(input(\"Por favor, ingrese el segundo número: \"))\n",
    "    \n",
    "print(\"Selecciona la operación que quiere realizar: \")\n",
    "print(\"1- Suma\")\n",
    "print(\"2- Resta\")\n",
    "print(\"3- Multiplicación\")\n",
    "print(\"4- División\")\n",
    "operacion = input(\"¿Qué operación quiere?: \")\n",
    "\n",
    "\n",
    "if operacion == 1:\n",
    "    resultado = num1 + num2\n",
    "    print(\"El resultado de la suma es: \", resultado)\n",
    "elif operacion == 2:\n",
    "    resultado = num1 - num2\n",
    "    print(\"El resultado de la resta es: \", resultado)\n",
    "elif operacion == 3:\n",
    "    resultado = num1 * num2\n",
    "    print(\"El resultado de la multiplicación es: \", resultado)\n",
    "elif operacion == 4:\n",
    "    if num2 != 0:\n",
    "        resultado = num1 / num2\n",
    "        print(\"El resultado de la división es: \", resultado)\n",
    "    else:\n",
    "        print(\"Error, no se puede hacer una división por 0.\")\n",
    "else:\n",
    "    print(\"La opción no es válida.\")"
   ]
  },
  {
   "cell_type": "markdown",
   "metadata": {},
   "source": [
    "### Punto 2: Contador de números pares e impares"
   ]
  },
  {
   "cell_type": "code",
   "execution_count": 2,
   "metadata": {},
   "outputs": [
    {
     "name": "stdout",
     "output_type": "stream",
     "text": [
      "La cantidad de números pares es:  10\n",
      "La cantidad de números impares es:  10\n"
     ]
    }
   ],
   "source": [
    "numeros = range(1,21)\n",
    "\n",
    "cdnp = 0\n",
    "cdni = 0\n",
    "\n",
    "for numero in numeros:\n",
    "    if numero % 2 == 0:\n",
    "        cdnp += 1\n",
    "    else:\n",
    "        cdni += 1\n",
    "        \n",
    "print(\"La cantidad de números pares es: \", cdnp)\n",
    "print(\"La cantidad de números impares es: \", cdni)"
   ]
  },
  {
   "cell_type": "markdown",
   "metadata": {},
   "source": [
    "### Punto 3: Validación de contraseña"
   ]
  },
  {
   "cell_type": "code",
   "execution_count": 3,
   "metadata": {},
   "outputs": [
    {
     "name": "stdout",
     "output_type": "stream",
     "text": [
      "Contraseña incorrecta, intentelo de nuevo\n",
      "Contraseña correcta\n"
     ]
    }
   ],
   "source": [
    "Contraseña1 = \"Prueba123321\"\n",
    "\n",
    "Contraseña2 = input(\"Por favor, ingrese la contraseña: \")\n",
    "\n",
    "while Contraseña2 != Contraseña1:\n",
    "    print(\"Contraseña incorrecta, intentelo de nuevo\")\n",
    "    Contraseña2 = input(\"Por favor, ingrese la contraseña: \")\n",
    "    \n",
    "print(\"Contraseña correcta\")"
   ]
  },
  {
   "cell_type": "markdown",
   "metadata": {},
   "source": [
    "### Punto 4: Identificador de números primos"
   ]
  },
  {
   "cell_type": "code",
   "execution_count": 4,
   "metadata": {},
   "outputs": [
    {
     "name": "stdout",
     "output_type": "stream",
     "text": [
      "El número  4  no es primo\n"
     ]
    }
   ],
   "source": [
    "numero = int(input(\"Ingrese un número: \"))\n",
    "es_primo = True\n",
    "\n",
    "if numero < 2:\n",
    "    es_primo = False\n",
    "else:\n",
    "    for i in range(2, int(numero**0.5) + 1):\n",
    "        if numero %i == 0:\n",
    "            es_primo = False\n",
    "            break\n",
    "\n",
    "if es_primo:\n",
    "    print(\"El número \", numero, \" es primo\")\n",
    "else:\n",
    "    print(\"El número \", numero, \" no es primo\")"
   ]
  },
  {
   "cell_type": "markdown",
   "metadata": {},
   "source": [
    "### Punto 5: Juego de adivinanza"
   ]
  },
  {
   "cell_type": "code",
   "execution_count": 5,
   "metadata": {},
   "outputs": [],
   "source": [
    "import random\n",
    "\n",
    "NumAle = random.randint(1,50)\n",
    "\n",
    "adivinanza = int(input(\"Adivina el número entre 1 y 50: \"))\n",
    "\n",
    "while adivinanza != NumAle:\n",
    "    if adivinanza < NumAle:\n",
    "        print(\"El número que dijiste es bajo, intentalo de nuevo.\")\n",
    "    else:\n",
    "        print(\"El número que dijiste es alto, intentalo de nuevo.\")\n",
    "        \n",
    "adivinanza = int(input(\"Adivina el número entre 1 y 50: \"))\n",
    "\n",
    "print(\"Has adivinado el número, felicidades!\")"
   ]
  },
  {
   "cell_type": "markdown",
   "metadata": {},
   "source": [
    "### Punto 6: Tabla de multiplicar"
   ]
  },
  {
   "cell_type": "code",
   "execution_count": null,
   "metadata": {},
   "outputs": [],
   "source": [
    "numero = int(input(\"Introduce un número: \"))\n",
    "\n",
    "print(\"La tabla de multiplicar del número: \", numero)\n",
    "for i in range(1,11):\n",
    "    resultado = numero * i\n",
    "    print(f\"{numero} x {i} = {resultado}\")"
   ]
  }
 ],
 "metadata": {
  "kernelspec": {
   "display_name": "Python 3",
   "language": "python",
   "name": "python3"
  },
  "language_info": {
   "codemirror_mode": {
    "name": "ipython",
    "version": 3
   },
   "file_extension": ".py",
   "mimetype": "text/x-python",
   "name": "python",
   "nbconvert_exporter": "python",
   "pygments_lexer": "ipython3",
   "version": "3.11.5"
  }
 },
 "nbformat": 4,
 "nbformat_minor": 2
}
