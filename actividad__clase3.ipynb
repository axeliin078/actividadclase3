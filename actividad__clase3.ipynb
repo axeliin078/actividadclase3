{
 "cells": [
  {
   "cell_type": "markdown",
   "metadata": {},
   "source": [
    "# Actividad Clase 3: Datos complejos"
   ]
  },
  {
   "cell_type": "markdown",
   "metadata": {},
   "source": [
    "## Crea una lista de nombre de ciudades"
   ]
  },
  {
   "cell_type": "code",
   "execution_count": null,
   "metadata": {},
   "outputs": [],
   "source": [
    "ciudades = [\"New York\", \"Paris\", \"Londres\", \"Tokio\", \"Roma\", \"Madrid\"]\n",
    "\n",
    "\n",
    "print(ciudades)"
   ]
  },
  {
   "cell_type": "markdown",
   "metadata": {},
   "source": [
    "## Diccionario de empleados que incluya el nombre, cargo y salario"
   ]
  },
  {
   "cell_type": "code",
   "execution_count": null,
   "metadata": {},
   "outputs": [],
   "source": [
    "empleados = {\n",
    "    1: {\"nombre\": \"Juan\", \"cargo\": \"Gerente\", \"salario\": 50000},\n",
    "    2: {\"nombre\": \"María\", \"cargo\": \"Analista\", \"salario\": 40000},\n",
    "    3: {\"nombre\": \"Pedro\", \"cargo\": \"Desarrollador\", \"salario\": 35000},\n",
    "    4: {\"nombre\": \"Laura\", \"cargo\": \"Diseñadora\", \"salario\": 38000},\n",
    "    5: {\"nombre\": \"Carlos\", \"cargo\": \"Contador\", \"salario\": 45000}\n",
    "}\n",
    "\n",
    "print(\"Información de los empleados:\")\n",
    "for id_empleado, info_empleado in empleados.items():\n",
    "    print(\"ID: {}, Nombre: {}, Cargo: {}, Salario: ${}\".format(id_empleado, info_empleado['nombre'], info_empleado['cargo'], info_empleado['salario']))"
   ]
  },
  {
   "cell_type": "markdown",
   "metadata": {},
   "source": [
    "## Como acceder a un elemento específico en una lista"
   ]
  },
  {
   "cell_type": "code",
   "execution_count": null,
   "metadata": {},
   "outputs": [],
   "source": [
    "ciudades = [\"Nueva York\", \"París\", \"Londres\", \"Tokio\", \"Roma\", \"Sídney\"]\n",
    "\n",
    "print(ciudades[2])"
   ]
  },
  {
   "cell_type": "markdown",
   "metadata": {},
   "source": [
    "## Como acceder a un elemento específico de un diccionario"
   ]
  },
  {
   "cell_type": "code",
   "execution_count": null,
   "metadata": {},
   "outputs": [],
   "source": [
    "empleados = {\n",
    "    \"juan\": {\"nombre\": \"Juan\", \"cargo\": \"Gerente\", \"salario\": 50000},\n",
    "    \"maria\": {\"nombre\": \"María\", \"cargo\": \"Analista\", \"salario\": 40000},\n",
    "    \"pedro\": {\"nombre\": \"Pedro\", \"cargo\": \"Desarrollador\", \"salario\": 35000}\n",
    "}\n",
    "\n",
    "info_pedro = empleados[\"pedro\"]\n",
    "print(\"Información de María:\", info_pedro)"
   ]
  },
  {
   "cell_type": "markdown",
   "metadata": {},
   "source": [
    "# Manipulación de listas"
   ]
  },
  {
   "cell_type": "markdown",
   "metadata": {},
   "source": [
    "## Crear una lista inicial de números enteros"
   ]
  },
  {
   "cell_type": "code",
   "execution_count": null,
   "metadata": {},
   "outputs": [],
   "source": [
    "numeros = [1, 3, 5, 7, 9]\n",
    "print(numeros)"
   ]
  },
  {
   "cell_type": "markdown",
   "metadata": {},
   "source": [
    "## Utilizar el método .append() para agregar un número al final de la lista"
   ]
  },
  {
   "cell_type": "code",
   "execution_count": null,
   "metadata": {},
   "outputs": [],
   "source": [
    "numeros = [1, 3, 5, 7, 9]\n",
    "numeros.append(11)\n",
    "print(numeros)"
   ]
  },
  {
   "cell_type": "markdown",
   "metadata": {},
   "source": [
    "## Utilizar el método .extend() para agregar múltiples elementos a la lista"
   ]
  },
  {
   "cell_type": "code",
   "execution_count": null,
   "metadata": {},
   "outputs": [],
   "source": [
    "numeros = [1, 3, 5, 7, 9]\n",
    "numeros.extend([13, 15, 17])\n",
    "print(numeros)"
   ]
  },
  {
   "cell_type": "markdown",
   "metadata": {},
   "source": [
    "## Utilizar el método .insert() para insertar un número en una posición específica de la lista"
   ]
  },
  {
   "cell_type": "code",
   "execution_count": null,
   "metadata": {},
   "outputs": [],
   "source": [
    "numeros = [1, 3, 5, 7, 9]\n",
    "numeros.insert(2, 4)\n",
    "print(numeros)"
   ]
  },
  {
   "cell_type": "markdown",
   "metadata": {},
   "source": [
    "## Mostrar la lista antes de ordenar"
   ]
  },
  {
   "cell_type": "code",
   "execution_count": null,
   "metadata": {},
   "outputs": [],
   "source": [
    "numeros = [1, 5, 3, 9, 7]\n",
    "print(\"Lista antes de ordenar:\", numeros)"
   ]
  },
  {
   "cell_type": "markdown",
   "metadata": {},
   "source": [
    "## Utilizar el método .sort() para ordenar la lista de números de forma ascendente"
   ]
  },
  {
   "cell_type": "code",
   "execution_count": null,
   "metadata": {},
   "outputs": [],
   "source": [
    "numeros = [1, 5, 3, 9, 7]\n",
    "numeros.sort()\n",
    "print(numeros)"
   ]
  },
  {
   "cell_type": "markdown",
   "metadata": {},
   "source": [
    "# Manipulación de diccionarios"
   ]
  },
  {
   "cell_type": "markdown",
   "metadata": {},
   "source": [
    "## Crear el diccionario de productos"
   ]
  },
  {
   "cell_type": "code",
   "execution_count": null,
   "metadata": {},
   "outputs": [],
   "source": [
    "productos = {\n",
    "    \"Camiseta\": {\"precio\": 20, \"cantidad\": 50},\n",
    "    \"Pantalón\": {\"precio\": 30, \"cantidad\": 40},\n",
    "    \"Zapatos\": {\"precio\": 50, \"cantidad\": 20}\n",
    "}"
   ]
  },
  {
   "cell_type": "markdown",
   "metadata": {},
   "source": [
    "## Obtener una lista de los nombres de productos"
   ]
  },
  {
   "cell_type": "code",
   "execution_count": null,
   "metadata": {},
   "outputs": [],
   "source": [
    "productos = {\n",
    "    \"Camiseta\": {\"precio\": 20, \"cantidad\": 50},\n",
    "    \"Pantalón\": {\"precio\": 30, \"cantidad\": 40},\n",
    "    \"Zapatos\": {\"precio\": 50, \"cantidad\": 20}\n",
    "}\n",
    "\n",
    "nombres_productos = productos.keys()\n",
    "print(\"Nombres de productos:\", list(nombres_productos))"
   ]
  },
  {
   "cell_type": "markdown",
   "metadata": {},
   "source": [
    "## Obtener una lista de precios y cantidades"
   ]
  },
  {
   "cell_type": "code",
   "execution_count": null,
   "metadata": {},
   "outputs": [],
   "source": [
    "productos = {\n",
    "    \"Camiseta\": {\"precio\": 20, \"cantidad\": 50},\n",
    "    \"Pantalón\": {\"precio\": 30, \"cantidad\": 40},\n",
    "    \"Zapatos\": {\"precio\": 50, \"cantidad\": 20}\n",
    "}\n",
    "\n",
    "precios_cantidades = productos.values()\n",
    "print(\"Precios y cantidades:\", list(precios_cantidades))"
   ]
  },
  {
   "cell_type": "markdown",
   "metadata": {},
   "source": [
    "## Obtener una lista de tuplas con pares clave-valor"
   ]
  },
  {
   "cell_type": "code",
   "execution_count": null,
   "metadata": {},
   "outputs": [],
   "source": [
    "productos = {\n",
    "    \"Camiseta\": {\"precio\": 20, \"cantidad\": 50},\n",
    "    \"Pantalón\": {\"precio\": 30, \"cantidad\": 40},\n",
    "    \"Zapatos\": {\"precio\": 50, \"cantidad\": 20}\n",
    "}\n",
    "\n",
    "nombres_productos = productos.keys()\n",
    "print(\"Nombres de productos:\", list(nombres_productos))\n",
    "precios_cantidades = productos.values()\n",
    "print(\"Precios y cantidades:\", list(precios_cantidades))\n",
    "items_productos = productos.items()\n",
    "print(\"Productos:\", list(items_productos))"
   ]
  },
  {
   "cell_type": "markdown",
   "metadata": {},
   "source": [
    "## Obtener el precio de un producto específico utilizando el método .get()"
   ]
  },
  {
   "cell_type": "code",
   "execution_count": null,
   "metadata": {},
   "outputs": [],
   "source": [
    "productos = {\n",
    "    \"Camiseta\": {\"precio\": 20, \"cantidad\": 50},\n",
    "    \"Pantalón\": {\"precio\": 30, \"cantidad\": 40},\n",
    "    \"Zapatos\": {\"precio\": 50, \"cantidad\": 20}\n",
    "}\n",
    "\n",
    "nombres_productos = productos.keys()\n",
    "print(\"Nombres de productos:\", list(nombres_productos))\n",
    "precios_cantidades = productos.values()\n",
    "print(\"Precios y cantidades:\", list(precios_cantidades))\n",
    "items_productos = productos.items()\n",
    "print(\"Productos:\", list(items_productos))\n",
    "\n",
    "producto_buscado = \"Camiseta\"\n",
    "precio_camiseta = productos.get(producto_buscado, {}).get(\"precio\", \"Producto no encontrado\")\n",
    "print(\"Precio de\", producto_buscado + \":\", precio_camiseta)"
   ]
  },
  {
   "cell_type": "markdown",
   "metadata": {},
   "source": [
    "# Datos complejos:"
   ]
  },
  {
   "cell_type": "markdown",
   "metadata": {},
   "source": [
    "## Crear una lista de diccionarios que represente información de libros (título, autor, año de publicación)."
   ]
  },
  {
   "cell_type": "code",
   "execution_count": null,
   "metadata": {},
   "outputs": [],
   "source": [
    "libros = [\n",
    "    {\"título\": \"Cien años de soledad\", \"autor\": \"Gabriel García Márquez\", \"año_publicación\": 1967},\n",
    "    {\"título\": \"1984\", \"autor\": \"George Orwell\", \"año_publicación\": 1949},\n",
    "    {\"título\": \"El principito\", \"autor\": \"Antoine de Saint-Exupéry\", \"año_publicación\": 1943}\n",
    "]"
   ]
  },
  {
   "cell_type": "markdown",
   "metadata": {},
   "source": [
    "## Crear un diccionario que contenga listas como valores (por ejemplo, un diccionario de estudiantes y sus materias)."
   ]
  },
  {
   "cell_type": "code",
   "execution_count": null,
   "metadata": {},
   "outputs": [],
   "source": [
    "estudiantes = {\n",
    "    \"Juan\": [\"Matemáticas\", \"Física\", \"Química\"],\n",
    "    \"María\": [\"Historia\", \"Literatura\", \"Geografía\"],\n",
    "    \"Pedro\": [\"Programación\", \"Base de datos\", \"Redes\"]\n",
    "}"
   ]
  },
  {
   "cell_type": "markdown",
   "metadata": {},
   "source": [
    "## Mostrar cómo modificar un valor en una lista dentro de un diccionario y viceversa."
   ]
  },
  {
   "cell_type": "code",
   "execution_count": null,
   "metadata": {},
   "outputs": [],
   "source": [
    "libros = [\n",
    "    {\"título\": \"Cien años de soledad\", \"autor\": \"Gabriel García Márquez\", \"año_publicación\": 1967},\n",
    "    {\"título\": \"1984\", \"autor\": \"George Orwell\", \"año_publicación\": 1949},\n",
    "    {\"título\": \"El principito\", \"autor\": \"Antoine de Saint-Exupéry\", \"año_publicación\": 1943}\n",
    "]\n",
    "\n",
    "libros[0][\"autor\"] = \"Nicolás Maquiavelo\""
   ]
  },
  {
   "cell_type": "code",
   "execution_count": null,
   "metadata": {},
   "outputs": [],
   "source": [
    "estudiantes = {\n",
    "    \"Juan\": [\"Matemáticas\", \"Física\", \"Química\"],\n",
    "    \"María\": [\"Historia\", \"Literatura\", \"Geografía\"],\n",
    "    \"Pedro\": [\"Programación\", \"Base de datos\", \"Redes\"]\n",
    "}\n",
    "\n",
    "estudiantes[\"María\"][1] = \"Biología\""
   ]
  }
 ],
 "metadata": {
  "language_info": {
   "name": "python"
  }
 },
 "nbformat": 4,
 "nbformat_minor": 2
}
